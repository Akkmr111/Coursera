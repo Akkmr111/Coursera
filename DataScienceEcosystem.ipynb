{
  "metadata": {
    "kernelspec": {
      "name": "python",
      "display_name": "Python (Pyodide)",
      "language": "python"
    },
    "language_info": {
      "codemirror_mode": {
        "name": "python",
        "version": 3
      },
      "file_extension": ".py",
      "mimetype": "text/x-python",
      "name": "python",
      "nbconvert_exporter": "python",
      "pygments_lexer": "ipython3",
      "version": "3.8"
    }
  },
  "nbformat_minor": 5,
  "nbformat": 4,
  "cells": [
    {
      "cell_type": "markdown",
      "source": "# Data Science Tools and Ecosystem",
      "metadata": {},
      "id": "7302a146-b08f-4ef0-8228-70a00f8c2e8f"
    },
    {
      "cell_type": "markdown",
      "source": "In this notebook, Data Science Tools and Ecosystem are summarized.",
      "metadata": {},
      "id": "b205aecc-1ab2-4de2-83db-690d08ddb358"
    },
    {
      "cell_type": "markdown",
      "source": "Some of the popular languages that Data Scientists use are:\n1. Python\n2. R\n3. SQL\n4. C++\n5. Java",
      "metadata": {},
      "id": "dea24f17-44fd-42db-ab70-173894f9ebb8"
    },
    {
      "cell_type": "markdown",
      "source": "Some of the commonly used libraries used by Data Scientists include:\n1. Tensorflow\n2. Numpy\n3. Scipy\n4. Pandas\n5. Matplotlib\n6. Keras\n7. Scikit learn\n8. Pytorch\n9. Open CV",
      "metadata": {},
      "id": "ff57cc08-3031-4c12-a631-9cbd21e093c4"
    },
    {
      "cell_type": "markdown",
      "source": "|Data Science Tools|\n|----|\n|SAAS|\n|Apache Hadoop|\n|Tebsorflow|",
      "metadata": {},
      "id": "360cfcb3-6b84-4d14-8343-fd6dde933ffb"
    },
    {
      "cell_type": "markdown",
      "source": "### Below are a few examples of evaluating arithmetic expressions in Python",
      "metadata": {},
      "id": "fd1bd221-507e-4b40-a323-a2aeb89d5a1b"
    },
    {
      "cell_type": "code",
      "source": "#This a simple arithmetic expression to mutiply then add integers\n(3*4)+5",
      "metadata": {
        "trusted": true
      },
      "execution_count": 3,
      "outputs": [
        {
          "execution_count": 3,
          "output_type": "execute_result",
          "data": {
            "text/plain": "17"
          },
          "metadata": {}
        }
      ],
      "id": "ce6bea58-7615-4631-9ae0-d86839a20fa1"
    },
    {
      "cell_type": "code",
      "source": "# This will convert 200 minutes to hours by diving by 60\n200/60",
      "metadata": {
        "trusted": true
      },
      "execution_count": 4,
      "outputs": [
        {
          "execution_count": 4,
          "output_type": "execute_result",
          "data": {
            "text/plain": "3.3333333333333335"
          },
          "metadata": {}
        }
      ],
      "id": "6b36802f-c217-466e-a5db-27215d6f8f4d"
    },
    {
      "cell_type": "markdown",
      "source": "__Objective__\n* ist popular languages for Data Science\n* ist popular libraries for Data Science\n* ist of well known Data Science Tools\n* How to provide comment in the cell",
      "metadata": {},
      "id": "a1a98129-6e4d-4e31-93a7-a83a446de824"
    },
    {
      "cell_type": "markdown",
      "source": "## Author\nAkshay Kumar",
      "metadata": {},
      "id": "2690f81d-6198-4081-aa9e-60dae67fd331"
    }
  ]
}